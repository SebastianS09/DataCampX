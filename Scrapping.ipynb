{
 "cells": [
  {
   "cell_type": "code",
   "execution_count": null,
   "metadata": {},
   "outputs": [],
   "source": [
    "from bs4 import BeautifulSoup\n",
    "import requests\n",
    "import pandas as pd\n",
    "import numpy as np\n",
    "import time\n",
    "import random\n"
   ]
  },
  {
   "cell_type": "markdown",
   "metadata": {},
   "source": [
    "# empty data frame with columns"
   ]
  },
  {
   "cell_type": "code",
   "execution_count": null,
   "metadata": {},
   "outputs": [],
   "source": [
    "apple_forum = pd.DataFrame({'title' : [], 'date': [], 'user':[], 'nb_views':[], 'nb_replies':[], 'link':[], 'model':[]})"
   ]
  },
  {
   "cell_type": "code",
   "execution_count": null,
   "metadata": {
    "scrolled": true
   },
   "outputs": [],
   "source": [
    "model = {'iphone_X':str(1889), 'iphone_7':str(1849),'iphone_7_p':str(1850),\n",
    "             'iphone_8':str(1890),'iphone_8_p':str(1891),'iphone_se':str(1847)}"
   ]
  },
  {
   "cell_type": "code",
   "execution_count": null,
   "metadata": {},
   "outputs": [],
   "source": [
    "leng = 0\n",
    "for model_name in model:\n",
    "    leng = len(apple_forum)\n",
    "    for i in range(1,28):\n",
    "        html = requests.get(\"https://discussions.apple.com/community/iphone/iphone_hardware?page=\"+str(i)+\"&category=\"+model[model_name]).text\n",
    "        soup = BeautifulSoup(html, 'html.parser')\n",
    "        bs_object = soup.find_all('div', attrs={\"class\":u\"discussion-description\"})\n",
    "\n",
    "        for s,index in zip(bs_object,range(len(bs_object))): \n",
    "        #links to threads\n",
    "            apple_forum.loc[index+15*(i-1)+leng,'link'] = s.find('div', attrs={\"class\":u\"discussion-title\"}).find('a').get('href')\n",
    "    \n",
    "        #question text\n",
    "            apple_forum.loc[index+15*(i-1)+leng,'title'] = s.find('div', attrs={\"class\":u\"discussion-title\"}).find('a') \\\n",
    "            .find('span', attrs={\"class\":u\"discussion-description-inner-responsive u-hide--desktop\"}).get_text().strip()\n",
    "    \n",
    "        #view number\n",
    "            apple_forum.loc[index+15*(i-1)+leng,'nb_views'] = s.find('div', attrs={\"class\":u\"discussion-metadata\"}) \\\n",
    "            .find('div', attrs={\"class\":u\"cell discussion-views u-hide--small\"}).get_text().strip()\n",
    "    \n",
    "        #user name\n",
    "            apple_forum.loc[index+15*(i-1)+leng,'user'] = s.find('div', attrs={\"class\":u\"discussion-metadata\"}) \\\n",
    "            .find('div', attrs={\"class\":u\"cell discussion-name u-hide--small\"}).get_text().strip()\n",
    "    \n",
    "        #latest reply and user replying\n",
    "            apple_forum.loc[index+15*(i-1)+leng,'date'] = s.find('div', attrs={\"class\":u\"discussion-metadata\"}) \\\n",
    "            .find('div', attrs={\"class\":u\"cell align-metadata\"}).get_text().strip()\n",
    "    \n",
    "        #latest reply and user replying\n",
    "            apple_forum.loc[index+15*(i-1)+leng,'nb_replies'] = s.find('div', attrs={\"class\":u\"discussion-metadata\"}) \\\n",
    "            .find_all('div', attrs={\"class\":\"cell align-metadata\"})[1].get_text().strip()\n",
    "        \n",
    "        #model name\n",
    "            apple_forum.loc[index+15*(i-1)+leng,'model'] = model_name\n",
    "        \n",
    "        print(model_name,i)\n",
    "        time.sleep(random.random()*5)\n",
    "   "
   ]
  },
  {
   "cell_type": "code",
   "execution_count": null,
   "metadata": {
    "scrolled": false
   },
   "outputs": [],
   "source": [
    "#apple_forum.to_csv('group_X.csv')\n",
    "#apple_forum = apple_forum.drop([\"index\",\"level_0\"],axis=1)\n",
    "apple_forum = apple_forum.replace(r'\\n',' ', regex=True)"
   ]
  },
  {
   "cell_type": "code",
   "execution_count": null,
   "metadata": {},
   "outputs": [],
   "source": [
    "apple_forum.to_csv(\"group10_applesupport.csv\")"
   ]
  },
  {
   "cell_type": "code",
   "execution_count": null,
   "metadata": {},
   "outputs": [],
   "source": [
    "apple_forum = pd.read_csv(\"group10_applesupport.csv\",index_col=0)"
   ]
  },
  {
   "cell_type": "code",
   "execution_count": null,
   "metadata": {},
   "outputs": [],
   "source": [
    "apple_forum.link[:10]"
   ]
  },
  {
   "cell_type": "code",
   "execution_count": null,
   "metadata": {},
   "outputs": [],
   "source": [
    "messages = pd.DataFrame({'thread_id' : [], 'date': [], 'message_id':[], 'message_text':[], \\\n",
    "                         'poster':[], 'interest':[], 'question':[], 'model':[]})\n",
    "\n",
    "i=0\n",
    "test = apple_forum.link\n",
    "for link in test:\n",
    "    html = requests.get(\"https://discussions.apple.com\"+link).text\n",
    "    soup = BeautifulSoup(html, 'html.parser')\n",
    "    bs_object = soup.find('div', attrs={\"class\":u\"j-column-wrap-l\"})\n",
    "    \n",
    "    try:\n",
    "        length = len(bs_object.find_all('div', attrs={\"class\":u\"jive-rendered-content\"}))\n",
    "    except: length = 0\n",
    "    l=0\n",
    "    while l < length:\n",
    "        if l == 0:\n",
    "            messages.loc[i,'question'] = True\n",
    "            \n",
    "            ### poster name \n",
    "            messages.loc[i,'poster'] = bs_object.find('div', attrs={\"class\":u\"j-post-author\"}).find('a').text.strip()\n",
    "            \n",
    "            ###question text \n",
    "            #messages.loc[i,'message_text'] = bs_object.find('span',attrs = {'class':u'question-more js-toggle-title-content'}).text.strip()\n",
    "            messages.loc[i,'message_text'] = bs_object.find('section',attrs = {'class':u'j-original-message'}) \\\n",
    "                                            .find('div',attrs = {'class':u'jive-rendered-content'}).text.strip()\n",
    "\n",
    "            ### poster model name / OS\n",
    "            try:\n",
    "                messages.loc[i,'model'] = bs_object.find('p', attrs={\"class\":u\"jive-model-info-display\"}).text.strip()\n",
    "            except: \n",
    "                messages.loc[i,'model'] = \"not disclosed\"\n",
    "            ### poste date\n",
    "            messages.loc[i,'date'] = bs_object.find('p', attrs={\"class\":u\"meta-posted\"}).text.strip()\n",
    "\n",
    "            ###me too\n",
    "            messages.loc[i,'interest'] = bs_object.find('a', attrs={\"class\":u\" jive-acclaim-likelink black-button \"}).text.strip()\n",
    "            \n",
    "            ###question id\n",
    "            messages.loc[i,'message_id'] = bs_object.find('', attrs={\"class\":u\" jive-acclaim-likelink black-button \"}).get(\"data-object-id\")\n",
    "            \n",
    "        else:\n",
    "            messages.loc[i,'question'] = False\n",
    "             \n",
    "            permalink = bs_object.find_all('a', attrs={\"class\":u\"discussionPermaLink\"})\n",
    "            try:\n",
    "                messages.loc[i,'message_id'] = permalink[l-1].get(\"href\")\n",
    "            except:\n",
    "                messages.loc[i,'message_id'] = \"na\"\n",
    "\n",
    "            #user \n",
    "            users = bs_object.find_all('span', attrs={\"class\":u\"username\"})\n",
    "            try:\n",
    "                messages.loc[i,'poster'] = users[l-1].text.strip()\n",
    "            except:\n",
    "                messages.loc[i,'poster'] = \"na\"\n",
    "\n",
    "            #replying to + date\n",
    "            dates = bs_object.find_all('span', attrs={\"class\":u\"j-inresponse-to\"})\n",
    "            try:\n",
    "                messages.loc[i,'date'] = dates[l-1].text.strip()\n",
    "            except: \n",
    "                messages.loc[i,'date'] = \"na\"\n",
    "            \n",
    "            #helpful answer count\n",
    "            helpful = bs_object.find_all('span', attrs={\"class\":u\"js-acclaim-container acclaim-container acclaim-like-container \"})\n",
    "            \n",
    "            try:\n",
    "                messages.loc[i,'interest'] = helpful[l-1].get(\"data-likes\")\n",
    "            except:\n",
    "                messages.loc[i,'interest'] = \"na\"\n",
    "            \n",
    "            #message text\n",
    "            answer = bs_object.find_all('section')\n",
    "            for x in answer:\n",
    "                if x.find('span', attrs={\"class\":u\"answer-marker\"}):\n",
    "                    continue\n",
    "                else:\n",
    "                    try: \n",
    "                        messages.loc[i,\"message_text\"] = answer[l-1].text.strip()\n",
    "                    except:\n",
    "                        messages.loc[i,\"message_text\"] = \"na\"\n",
    "            \n",
    "        messages.loc[i,'thread_id'] = link\n",
    "       #m_text = bs_object.find_all('div', attrs={\"class\":u\"jive-rendered-content\"})\n",
    "       #messages.loc[i,\"message_text\"] = m_text[l].text.strip()\n",
    "        i+=1\n",
    "        l+=1\n",
    "        \n",
    "messages.to_csv(\"group10_applemessages.csv\")"
   ]
  },
  {
   "cell_type": "code",
   "execution_count": null,
   "metadata": {
    "scrolled": false
   },
   "outputs": [],
   "source": [
    "messages.shape"
   ]
  },
  {
   "cell_type": "code",
   "execution_count": null,
   "metadata": {},
   "outputs": [],
   "source": [
    "bs_object.find('span', attrs={\"class\":u\"jive-model-info-display\"})"
   ]
  },
  {
   "cell_type": "code",
   "execution_count": null,
   "metadata": {},
   "outputs": [],
   "source": [
    "html = requests.get(\"https://discussions.apple.com/thread/8163518\").text\n",
    "soup = BeautifulSoup(html, 'html.parser')\n",
    "bs_object = soup.find('div', attrs={\"class\":u\"j-column-wrap-l\"})"
   ]
  },
  {
   "cell_type": "code",
   "execution_count": null,
   "metadata": {},
   "outputs": [],
   "source": [
    "### poster name \n",
    "bs_object.find('div', attrs={\"class\":u\"j-post-author\"}).find('a').text.strip()\n",
    "    \n",
    "### poster model name / OS\n",
    "bs_object.find('p', attrs={\"class\":u\"jive-model-info-display\"}).text.strip()\n",
    "\n",
    "### question text\n",
    "bs_object.find('span',attrs = {'class':u'question-more js-toggle-title-content'}).text.strip()\n",
    "bs_object.find('section',attrs = {'class':u'j-original-message'}).find('div',attrs = {'class':u'jive-rendered-content'}).text\n",
    "### poste date\n",
    "bs_object.find('p', attrs={\"class\":u\"meta-posted\"}).text.strip()\n",
    "\n",
    "###me too\n",
    "bs_object.find('a', attrs={\"class\":u\" jive-acclaim-likelink black-button \"}).text.strip()\n",
    "\n",
    "###question id\n",
    "bs_object.find('', attrs={\"class\":u\" jive-acclaim-likelink black-button \"}).get(\"data-object-id\")\n",
    "\n",
    "### replying users\n",
    "table = bs_object.find_all('span', attrs={\"class\":u\"username\"})\n",
    "for x in table:\n",
    "    x.text.strip()\n",
    "    \n",
    "#initial message + reply text: \n",
    "table = bs_object.find_all('div', attrs={\"class\":u\"jive-rendered-content\"})\n",
    "for x in range(0,len(table)):\n",
    "    print(x)\n",
    "    print(table[x].text.strip())\n",
    "\n",
    "#Replies only (exception for marked answers)\n",
    "table = bs_object.find_all('section')\n",
    "for x in table:\n",
    "        if x.find('span', attrs={\"class\":u\"answer-marker\"}):\n",
    "            continue\n",
    "        else:\n",
    "            (x)\n",
    "    \n",
    "#replying to\n",
    "table = bs_object.find_all('span', attrs={\"class\":u\"font-color-meta-light j-thread-replyto\"})\n",
    "for x in range(0,len(table)):\n",
    "    print(x)\n",
    "    print(table[x].text.strip())\n",
    "\n",
    "##perma link to replies\n",
    "table = bs_object.find_all('a', attrs={\"class\":u\"discussionPermaLink\"})\n",
    "for x in range(0,len(table)):\n",
    "    print(x)\n",
    "    print(table[x].get(\"href\"))\n",
    "\n",
    "#replying to + date\n",
    "table = bs_object.find_all('span', attrs={\"class\":u\"j-inresponse-to\"})\n",
    "for x in range(0,len(table)):\n",
    "    print(x)\n",
    "    print(table[x].text.strip())\n",
    "    \n",
    "# helpful\n",
    "table = bs_object.find_all('span', attrs={\"class\":u\"js-acclaim-container acclaim-container acclaim-like-container \"})\n",
    "for x in table:\n",
    "    print(x.get(\"data-likes\"))"
   ]
  },
  {
   "cell_type": "code",
   "execution_count": null,
   "metadata": {},
   "outputs": [],
   "source": [
    "#replying to + date\n",
    "table = bs_object.find_all('span', attrs={\"class\":u\"j-inresponse-to\"})\n",
    "for x in range(0,len(table)):\n",
    "    print(x)\n",
    "    print(table[x].text.strip())"
   ]
  },
  {
   "cell_type": "code",
   "execution_count": null,
   "metadata": {
    "scrolled": true
   },
   "outputs": [],
   "source": [
    "bs_object.find('section',attrs = {'class':u'j-original-message'}).find('div',attrs = {'class':u'jive-rendered-content'}).text"
   ]
  },
  {
   "cell_type": "code",
   "execution_count": null,
   "metadata": {
    "scrolled": false
   },
   "outputs": [],
   "source": [
    "print(bs_object.prettify())"
   ]
  },
  {
   "cell_type": "code",
   "execution_count": null,
   "metadata": {},
   "outputs": [],
   "source": [
    "answer = bs_object.find_all('section')\n",
    "            for x in answer:\n",
    "                if x.find('span', attrs={\"class\":u\"answer-marker\"}):\n",
    "                    continue\n",
    "                else:\n",
    "                    messages.loc[i,\"message_text\"] = answer[l-1].text.strip()"
   ]
  },
  {
   "cell_type": "code",
   "execution_count": 89,
   "metadata": {},
   "outputs": [
    {
     "name": "stdout",
     "output_type": "stream",
     "text": [
      "showing info https://raw.githubusercontent.com/nltk/nltk_data/gh-pages/index.xml\n"
     ]
    },
    {
     "ename": "KeyboardInterrupt",
     "evalue": "",
     "output_type": "error",
     "traceback": [
      "\u001b[0;31m---------------------------------------------------------------------------\u001b[0m",
      "\u001b[0;31mKeyboardInterrupt\u001b[0m                         Traceback (most recent call last)",
      "\u001b[0;32m<ipython-input-89-f84122aa2a0b>\u001b[0m in \u001b[0;36m<module>\u001b[0;34m()\u001b[0m\n\u001b[1;32m      2\u001b[0m \u001b[0;34m\u001b[0m\u001b[0m\n\u001b[1;32m      3\u001b[0m \u001b[0;31m#pour télécharger les packages de nltk il faut wordnet, pickle\u001b[0m\u001b[0;34m\u001b[0m\u001b[0;34m\u001b[0m\u001b[0m\n\u001b[0;32m----> 4\u001b[0;31m \u001b[0mnltk\u001b[0m\u001b[0;34m.\u001b[0m\u001b[0mdownload\u001b[0m\u001b[0;34m(\u001b[0m\u001b[0;34m)\u001b[0m\u001b[0;34m\u001b[0m\u001b[0m\n\u001b[0m",
      "\u001b[0;32m~/anaconda3/lib/python3.6/site-packages/nltk/downloader.py\u001b[0m in \u001b[0;36mdownload\u001b[0;34m(self, info_or_id, download_dir, quiet, force, prefix, halt_on_error, raise_on_error)\u001b[0m\n\u001b[1;32m    659\u001b[0m             \u001b[0;31m# function should make a new copy of self to use?\u001b[0m\u001b[0;34m\u001b[0m\u001b[0;34m\u001b[0m\u001b[0m\n\u001b[1;32m    660\u001b[0m             \u001b[0;32mif\u001b[0m \u001b[0mdownload_dir\u001b[0m \u001b[0;32mis\u001b[0m \u001b[0;32mnot\u001b[0m \u001b[0;32mNone\u001b[0m\u001b[0;34m:\u001b[0m \u001b[0mself\u001b[0m\u001b[0;34m.\u001b[0m\u001b[0m_download_dir\u001b[0m \u001b[0;34m=\u001b[0m \u001b[0mdownload_dir\u001b[0m\u001b[0;34m\u001b[0m\u001b[0m\n\u001b[0;32m--> 661\u001b[0;31m             \u001b[0mself\u001b[0m\u001b[0;34m.\u001b[0m\u001b[0m_interactive_download\u001b[0m\u001b[0;34m(\u001b[0m\u001b[0;34m)\u001b[0m\u001b[0;34m\u001b[0m\u001b[0m\n\u001b[0m\u001b[1;32m    662\u001b[0m             \u001b[0;32mreturn\u001b[0m \u001b[0;32mTrue\u001b[0m\u001b[0;34m\u001b[0m\u001b[0m\n\u001b[1;32m    663\u001b[0m \u001b[0;34m\u001b[0m\u001b[0m\n",
      "\u001b[0;32m~/anaconda3/lib/python3.6/site-packages/nltk/downloader.py\u001b[0m in \u001b[0;36m_interactive_download\u001b[0;34m(self)\u001b[0m\n\u001b[1;32m    980\u001b[0m         \u001b[0;32mif\u001b[0m \u001b[0mTKINTER\u001b[0m\u001b[0;34m:\u001b[0m\u001b[0;34m\u001b[0m\u001b[0m\n\u001b[1;32m    981\u001b[0m             \u001b[0;32mtry\u001b[0m\u001b[0;34m:\u001b[0m\u001b[0;34m\u001b[0m\u001b[0m\n\u001b[0;32m--> 982\u001b[0;31m                 \u001b[0mDownloaderGUI\u001b[0m\u001b[0;34m(\u001b[0m\u001b[0mself\u001b[0m\u001b[0;34m)\u001b[0m\u001b[0;34m.\u001b[0m\u001b[0mmainloop\u001b[0m\u001b[0;34m(\u001b[0m\u001b[0;34m)\u001b[0m\u001b[0;34m\u001b[0m\u001b[0m\n\u001b[0m\u001b[1;32m    983\u001b[0m             \u001b[0;32mexcept\u001b[0m \u001b[0mTclError\u001b[0m\u001b[0;34m:\u001b[0m\u001b[0;34m\u001b[0m\u001b[0m\n\u001b[1;32m    984\u001b[0m                 \u001b[0mDownloaderShell\u001b[0m\u001b[0;34m(\u001b[0m\u001b[0mself\u001b[0m\u001b[0;34m)\u001b[0m\u001b[0;34m.\u001b[0m\u001b[0mrun\u001b[0m\u001b[0;34m(\u001b[0m\u001b[0;34m)\u001b[0m\u001b[0;34m\u001b[0m\u001b[0m\n",
      "\u001b[0;32m~/anaconda3/lib/python3.6/site-packages/nltk/downloader.py\u001b[0m in \u001b[0;36mmainloop\u001b[0;34m(self, *args, **kwargs)\u001b[0m\n\u001b[1;32m   1715\u001b[0m \u001b[0;34m\u001b[0m\u001b[0m\n\u001b[1;32m   1716\u001b[0m     \u001b[0;32mdef\u001b[0m \u001b[0mmainloop\u001b[0m\u001b[0;34m(\u001b[0m\u001b[0mself\u001b[0m\u001b[0;34m,\u001b[0m \u001b[0;34m*\u001b[0m\u001b[0margs\u001b[0m\u001b[0;34m,\u001b[0m \u001b[0;34m**\u001b[0m\u001b[0mkwargs\u001b[0m\u001b[0;34m)\u001b[0m\u001b[0;34m:\u001b[0m\u001b[0;34m\u001b[0m\u001b[0m\n\u001b[0;32m-> 1717\u001b[0;31m         \u001b[0mself\u001b[0m\u001b[0;34m.\u001b[0m\u001b[0mtop\u001b[0m\u001b[0;34m.\u001b[0m\u001b[0mmainloop\u001b[0m\u001b[0;34m(\u001b[0m\u001b[0;34m*\u001b[0m\u001b[0margs\u001b[0m\u001b[0;34m,\u001b[0m \u001b[0;34m**\u001b[0m\u001b[0mkwargs\u001b[0m\u001b[0;34m)\u001b[0m\u001b[0;34m\u001b[0m\u001b[0m\n\u001b[0m\u001b[1;32m   1718\u001b[0m \u001b[0;34m\u001b[0m\u001b[0m\n\u001b[1;32m   1719\u001b[0m     \u001b[0;31m#/////////////////////////////////////////////////////////////////\u001b[0m\u001b[0;34m\u001b[0m\u001b[0;34m\u001b[0m\u001b[0m\n",
      "\u001b[0;32m~/anaconda3/lib/python3.6/tkinter/__init__.py\u001b[0m in \u001b[0;36mmainloop\u001b[0;34m(self, n)\u001b[0m\n\u001b[1;32m   1275\u001b[0m     \u001b[0;32mdef\u001b[0m \u001b[0mmainloop\u001b[0m\u001b[0;34m(\u001b[0m\u001b[0mself\u001b[0m\u001b[0;34m,\u001b[0m \u001b[0mn\u001b[0m\u001b[0;34m=\u001b[0m\u001b[0;36m0\u001b[0m\u001b[0;34m)\u001b[0m\u001b[0;34m:\u001b[0m\u001b[0;34m\u001b[0m\u001b[0m\n\u001b[1;32m   1276\u001b[0m         \u001b[0;34m\"\"\"Call the mainloop of Tk.\"\"\"\u001b[0m\u001b[0;34m\u001b[0m\u001b[0m\n\u001b[0;32m-> 1277\u001b[0;31m         \u001b[0mself\u001b[0m\u001b[0;34m.\u001b[0m\u001b[0mtk\u001b[0m\u001b[0;34m.\u001b[0m\u001b[0mmainloop\u001b[0m\u001b[0;34m(\u001b[0m\u001b[0mn\u001b[0m\u001b[0;34m)\u001b[0m\u001b[0;34m\u001b[0m\u001b[0m\n\u001b[0m\u001b[1;32m   1278\u001b[0m     \u001b[0;32mdef\u001b[0m \u001b[0mquit\u001b[0m\u001b[0;34m(\u001b[0m\u001b[0mself\u001b[0m\u001b[0;34m)\u001b[0m\u001b[0;34m:\u001b[0m\u001b[0;34m\u001b[0m\u001b[0m\n\u001b[1;32m   1279\u001b[0m         \u001b[0;34m\"\"\"Quit the Tcl interpreter. All widgets will be destroyed.\"\"\"\u001b[0m\u001b[0;34m\u001b[0m\u001b[0m\n",
      "\u001b[0;31mKeyboardInterrupt\u001b[0m: "
     ]
    }
   ],
   "source": [
    "#read csv locally (on github)\n",
    "apple_forum = pd.read_csv(\"group10_applesupport.csv\",index_col=0)\n",
    "\n",
    "import nltk\n",
    "# télécharger les packages de nltk, il faut wordnet, punkt \n",
    "#run pour l'interface\n",
    "nltk.download()"
   ]
  },
  {
   "cell_type": "code",
   "execution_count": null,
   "metadata": {},
   "outputs": [],
   "source": [
    "titles = apple_forum.title\n",
    "titles[0] = \"null\"\n",
    "for i in range(len(titles)):\n",
    "    titles[i]=titles[i].lower()\n",
    "    titles[i]=titles[i].replace(\"iphone x\",\"iphone_x\")\n",
    "    titles[i]=titles[i].replace(\"iphone 8\",\"iphone_7\")\n",
    "    titles[i]=titles[i].replace(\"iphone se\",\"iphone_se\")\n",
    "    titles[i]=titles[i].replace(\"iphone 7\",\"iphone_7\")\n"
   ]
  },
  {
   "cell_type": "code",
   "execution_count": null,
   "metadata": {},
   "outputs": [],
   "source": [
    "from nltk.tokenize import word_tokenize\n",
    "from nltk.corpus import stopwords\n",
    "\n",
    "tokens = titles.apply(nltk.word_tokenize,1)\n",
    "\n",
    "for i in range(len(tokens)):\n",
    "    tokens[i] = [word for word in tokens[i] if word.isalpha()]\n",
    "\n",
    "stop_words = set(stopwords.words('english'))\n",
    "    \n",
    "for i in range(len(tokens)):\n",
    "    tokens[i] = [w for w in tokens[i] if not w in stop_words]\n",
    "\n",
    "tokens   \n"
   ]
  },
  {
   "cell_type": "code",
   "execution_count": null,
   "metadata": {},
   "outputs": [],
   "source": [
    "from nltk.stem.porter import PorterStemmer\n",
    "porter = PorterStemmer()\n",
    "\n",
    "stemmed = tokens.copy()\n",
    "for i in range(len(stemmed)):\n",
    "    stemmed[i] = [porter.stem(word) for word in stemmed[i]]\n",
    "    \n",
    "lemmatized = tokens.copy()\n",
    "\n",
    "from nltk.stem import WordNetLemmatizer\n",
    "wordnet_lemmatizer = WordNetLemmatizer()\n",
    "for i in range(len(lemmatized)):\n",
    "    lemmatized[i] = [wordnet_lemmatizer.lemmatize(word) for word in lemmatized[i]]\n",
    "\n",
    "lemmatized"
   ]
  },
  {
   "cell_type": "code",
   "execution_count": null,
   "metadata": {},
   "outputs": [],
   "source": [
    "from sklearn.feature_extraction.text import TfidfVectorizer\n",
    "tfidf = TfidfVectorizer(max_features=300, ngram_range=(1, 3))\n",
    "\n",
    "tfidf_matrix = tfidf.fit_transform(lemmatized.transform(lambda x: ' '.join(x)))\n",
    "\n",
    "tfidf.get_feature_names()\n",
    "\n",
    "#tfidf_matrix\n"
   ]
  },
  {
   "cell_type": "code",
   "execution_count": null,
   "metadata": {},
   "outputs": [],
   "source": []
  }
 ],
 "metadata": {
  "kernelspec": {
   "display_name": "Python 3",
   "language": "python",
   "name": "python3"
  },
  "language_info": {
   "codemirror_mode": {
    "name": "ipython",
    "version": 3
   },
   "file_extension": ".py",
   "mimetype": "text/x-python",
   "name": "python",
   "nbconvert_exporter": "python",
   "pygments_lexer": "ipython3",
   "version": "3.6.2"
  }
 },
 "nbformat": 4,
 "nbformat_minor": 2
}
