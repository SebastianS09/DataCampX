{
 "cells": [
  {
   "cell_type": "code",
   "execution_count": 1,
   "metadata": {
    "collapsed": true
   },
   "outputs": [],
   "source": [
    "from bs4 import BeautifulSoup\n",
    "import requests\n",
    "import pandas as pd\n",
    "import re"
   ]
  },
  {
   "cell_type": "code",
   "execution_count": 2,
   "metadata": {},
   "outputs": [
    {
     "data": {
      "text/plain": [
       "(3991, 6)"
      ]
     },
     "execution_count": 2,
     "metadata": {},
     "output_type": "execute_result"
    }
   ],
   "source": [
    "samsung_support = pd.DataFrame({'title' : [], 'date': [], 'user':[], 'nb_views':[], 'nb_replies':[], 'link':[]})\n",
    "\n",
    "for i in range(1,134):\n",
    "    html = requests.get('https://us.community.samsung.com/t5/Galaxy-S8-Questions-and-Answers/bd-p/GS8QA/page/'+str(i)) # pour pouvoir itérer\n",
    "    soup = BeautifulSoup(html.text, 'lxml')\n",
    "    \n",
    "    bs_object = soup.find_all('div', attrs = {\"class\": u\"lia-component-messages-column-message-info\"}) # Attention au u\n",
    "    df = pd.DataFrame({'title' : [], 'date': [], 'user':[], 'nb_views':[], 'nb_replies':[], 'link':[]})\n",
    "\n",
    "    for s,index in zip(bs_object,range(len(bs_object))): \n",
    "        \n",
    "        df.loc[index,'title'] = s.find('div', attrs={\"class\":u\"MessageSubjectCell\"}).get_text().strip()\n",
    "    \n",
    "        try:\n",
    "            df.loc[index,'date'] = s.find('span', attrs={\"class\":u\"DateTime\"}).find('span', attrs={\"class\":u\"local-date\"}).get_text().strip()\n",
    "        except AttributeError:\n",
    "            df.loc[index,'date'] = s.find('span', attrs={\"class\":u\"DateTime\"}).find('span', attrs={\"class\":u\"local-friendly-date\"}).get_text().strip()\n",
    "    \n",
    "        df.loc[index,'user'] = s.find('span', attrs={\"class\":u\"UserName\"}).get_text().strip()\n",
    "        \n",
    "        df.loc[index,'nb_views'] = s.find_all('span', attrs={\"class\":u\"lia-message-stats-count\"})[0].get_text().strip()\n",
    "    \n",
    "        df.loc[index,'nb_replies'] = s.find_all('span', attrs={\"class\":u\"lia-message-stats-count\"})[1].get_text().strip()\n",
    "        \n",
    "        df.loc[index,'link'] = s.find('div', attrs={\"class\":u\"MessageSubject\"}).find('a').get('href').strip() \n",
    "        \n",
    "    samsung_support = samsung_support.append(df, ignore_index = True)\n",
    "\n",
    "samsung_support.shape"
   ]
  },
  {
   "cell_type": "code",
   "execution_count": 3,
   "metadata": {},
   "outputs": [
    {
     "data": {
      "text/html": [
       "<div>\n",
       "<style>\n",
       "    .dataframe thead tr:only-child th {\n",
       "        text-align: right;\n",
       "    }\n",
       "\n",
       "    .dataframe thead th {\n",
       "        text-align: left;\n",
       "    }\n",
       "\n",
       "    .dataframe tbody tr th {\n",
       "        vertical-align: top;\n",
       "    }\n",
       "</style>\n",
       "<table border=\"1\" class=\"dataframe\">\n",
       "  <thead>\n",
       "    <tr style=\"text-align: right;\">\n",
       "      <th></th>\n",
       "      <th>date</th>\n",
       "      <th>link</th>\n",
       "      <th>nb_replies</th>\n",
       "      <th>nb_views</th>\n",
       "      <th>title</th>\n",
       "      <th>user</th>\n",
       "    </tr>\n",
       "  </thead>\n",
       "  <tbody>\n",
       "    <tr>\n",
       "      <th>0</th>\n",
       "      <td>‎03-30-2017</td>\n",
       "      <td>/t5/Galaxy-S8-Questions-and-Answers/Galaxy-S8-...</td>\n",
       "      <td>8586</td>\n",
       "      <td>74</td>\n",
       "      <td>Galaxy S8/S8+ Thoughts &amp; Info\\n               ...</td>\n",
       "      <td>SamsungMarcos</td>\n",
       "    </tr>\n",
       "    <tr>\n",
       "      <th>1</th>\n",
       "      <td>‎11-27-2017</td>\n",
       "      <td>/t5/Galaxy-S8-Questions-and-Answers/pop-ups-Ad...</td>\n",
       "      <td>217</td>\n",
       "      <td>4</td>\n",
       "      <td>pop ups/ Adds</td>\n",
       "      <td>Rach715</td>\n",
       "    </tr>\n",
       "    <tr>\n",
       "      <th>2</th>\n",
       "      <td>24m ago</td>\n",
       "      <td>/t5/Galaxy-S8-Questions-and-Answers/Can-t-make...</td>\n",
       "      <td>7</td>\n",
       "      <td>1</td>\n",
       "      <td>Can't make calls</td>\n",
       "      <td>userGKEADqAA59</td>\n",
       "    </tr>\n",
       "    <tr>\n",
       "      <th>3</th>\n",
       "      <td>‎07-13-2017</td>\n",
       "      <td>/t5/Galaxy-S8-Questions-and-Answers/S8-music-p...</td>\n",
       "      <td>11350</td>\n",
       "      <td>38</td>\n",
       "      <td>S8 music player stops on it's own.\\n          ...</td>\n",
       "      <td>userExQfppLD9o</td>\n",
       "    </tr>\n",
       "    <tr>\n",
       "      <th>4</th>\n",
       "      <td>‎06-16-2017</td>\n",
       "      <td>/t5/Galaxy-S8-Questions-and-Answers/Very-frust...</td>\n",
       "      <td>10750</td>\n",
       "      <td>21</td>\n",
       "      <td>Very frustrated with Samsung Premium Care\\n   ...</td>\n",
       "      <td>userGX0F6EIpsT</td>\n",
       "    </tr>\n",
       "  </tbody>\n",
       "</table>\n",
       "</div>"
      ],
      "text/plain": [
       "          date                                               link nb_replies  \\\n",
       "0  ‎03-30-2017  /t5/Galaxy-S8-Questions-and-Answers/Galaxy-S8-...       8586   \n",
       "1  ‎11-27-2017  /t5/Galaxy-S8-Questions-and-Answers/pop-ups-Ad...        217   \n",
       "2      24m ago  /t5/Galaxy-S8-Questions-and-Answers/Can-t-make...          7   \n",
       "3  ‎07-13-2017  /t5/Galaxy-S8-Questions-and-Answers/S8-music-p...      11350   \n",
       "4  ‎06-16-2017  /t5/Galaxy-S8-Questions-and-Answers/Very-frust...      10750   \n",
       "\n",
       "  nb_views                                              title            user  \n",
       "0       74  Galaxy S8/S8+ Thoughts & Info\\n               ...   SamsungMarcos  \n",
       "1        4                                      pop ups/ Adds         Rach715  \n",
       "2        1                                   Can't make calls  userGKEADqAA59  \n",
       "3       38  S8 music player stops on it's own.\\n          ...  userExQfppLD9o  \n",
       "4       21  Very frustrated with Samsung Premium Care\\n   ...  userGX0F6EIpsT  "
      ]
     },
     "execution_count": 3,
     "metadata": {},
     "output_type": "execute_result"
    }
   ],
   "source": [
    "samsung_support.head()"
   ]
  },
  {
   "cell_type": "code",
   "execution_count": 4,
   "metadata": {},
   "outputs": [
    {
     "data": {
      "text/html": [
       "<div>\n",
       "<style>\n",
       "    .dataframe thead tr:only-child th {\n",
       "        text-align: right;\n",
       "    }\n",
       "\n",
       "    .dataframe thead th {\n",
       "        text-align: left;\n",
       "    }\n",
       "\n",
       "    .dataframe tbody tr th {\n",
       "        vertical-align: top;\n",
       "    }\n",
       "</style>\n",
       "<table border=\"1\" class=\"dataframe\">\n",
       "  <thead>\n",
       "    <tr style=\"text-align: right;\">\n",
       "      <th></th>\n",
       "      <th>date</th>\n",
       "      <th>link</th>\n",
       "      <th>nb_replies</th>\n",
       "      <th>nb_views</th>\n",
       "      <th>title</th>\n",
       "      <th>user</th>\n",
       "      <th>thread</th>\n",
       "    </tr>\n",
       "  </thead>\n",
       "  <tbody>\n",
       "    <tr>\n",
       "      <th>0</th>\n",
       "      <td>‎03-30-2017</td>\n",
       "      <td>/t5/Galaxy-S8-Questions-and-Answers/Galaxy-S8-...</td>\n",
       "      <td>8586</td>\n",
       "      <td>74</td>\n",
       "      <td>Galaxy S8/S8+ Thoughts &amp; Info\\n               ...</td>\n",
       "      <td>SamsungMarcos</td>\n",
       "      <td>83749</td>\n",
       "    </tr>\n",
       "    <tr>\n",
       "      <th>1</th>\n",
       "      <td>‎11-27-2017</td>\n",
       "      <td>/t5/Galaxy-S8-Questions-and-Answers/pop-ups-Ad...</td>\n",
       "      <td>217</td>\n",
       "      <td>4</td>\n",
       "      <td>pop ups/ Adds</td>\n",
       "      <td>Rach715</td>\n",
       "      <td>218465</td>\n",
       "    </tr>\n",
       "    <tr>\n",
       "      <th>2</th>\n",
       "      <td>24m ago</td>\n",
       "      <td>/t5/Galaxy-S8-Questions-and-Answers/Can-t-make...</td>\n",
       "      <td>7</td>\n",
       "      <td>1</td>\n",
       "      <td>Can't make calls</td>\n",
       "      <td>userGKEADqAA59</td>\n",
       "      <td>252246</td>\n",
       "    </tr>\n",
       "    <tr>\n",
       "      <th>3</th>\n",
       "      <td>‎07-13-2017</td>\n",
       "      <td>/t5/Galaxy-S8-Questions-and-Answers/S8-music-p...</td>\n",
       "      <td>11350</td>\n",
       "      <td>38</td>\n",
       "      <td>S8 music player stops on it's own.\\n          ...</td>\n",
       "      <td>userExQfppLD9o</td>\n",
       "      <td>136597</td>\n",
       "    </tr>\n",
       "    <tr>\n",
       "      <th>4</th>\n",
       "      <td>‎06-16-2017</td>\n",
       "      <td>/t5/Galaxy-S8-Questions-and-Answers/Very-frust...</td>\n",
       "      <td>10750</td>\n",
       "      <td>21</td>\n",
       "      <td>Very frustrated with Samsung Premium Care\\n   ...</td>\n",
       "      <td>userGX0F6EIpsT</td>\n",
       "      <td>121544</td>\n",
       "    </tr>\n",
       "  </tbody>\n",
       "</table>\n",
       "</div>"
      ],
      "text/plain": [
       "          date                                               link nb_replies  \\\n",
       "0  ‎03-30-2017  /t5/Galaxy-S8-Questions-and-Answers/Galaxy-S8-...       8586   \n",
       "1  ‎11-27-2017  /t5/Galaxy-S8-Questions-and-Answers/pop-ups-Ad...        217   \n",
       "2      24m ago  /t5/Galaxy-S8-Questions-and-Answers/Can-t-make...          7   \n",
       "3  ‎07-13-2017  /t5/Galaxy-S8-Questions-and-Answers/S8-music-p...      11350   \n",
       "4  ‎06-16-2017  /t5/Galaxy-S8-Questions-and-Answers/Very-frust...      10750   \n",
       "\n",
       "  nb_views                                              title            user  \\\n",
       "0       74  Galaxy S8/S8+ Thoughts & Info\\n               ...   SamsungMarcos   \n",
       "1        4                                      pop ups/ Adds         Rach715   \n",
       "2        1                                   Can't make calls  userGKEADqAA59   \n",
       "3       38  S8 music player stops on it's own.\\n          ...  userExQfppLD9o   \n",
       "4       21  Very frustrated with Samsung Premium Care\\n   ...  userGX0F6EIpsT   \n",
       "\n",
       "   thread  \n",
       "0   83749  \n",
       "1  218465  \n",
       "2  252246  \n",
       "3  136597  \n",
       "4  121544  "
      ]
     },
     "execution_count": 4,
     "metadata": {},
     "output_type": "execute_result"
    }
   ],
   "source": [
    "thread = pd.DataFrame(columns = ['thread'])\n",
    "for i in samsung_support.index:\n",
    "    try:\n",
    "        thread.loc[i] = [str(samsung_support['link'][i].split('/td-p/')[1])] \n",
    "    except IndexError:\n",
    "        thread.loc[i] = [str(samsung_support['link'][i].split('/m-p/')[1])]\n",
    "        \n",
    "samsung_support = pd.merge(samsung_support, thread, left_index = True, right_index = True)\n",
    "\n",
    "samsung_support.head()"
   ]
  },
  {
   "cell_type": "code",
   "execution_count": 11,
   "metadata": {},
   "outputs": [
    {
     "data": {
      "text/plain": [
       "date          0\n",
       "link          0\n",
       "nb_replies    0\n",
       "nb_views      0\n",
       "title         0\n",
       "user          0\n",
       "thread        0\n",
       "dtype: int64"
      ]
     },
     "execution_count": 11,
     "metadata": {},
     "output_type": "execute_result"
    }
   ],
   "source": [
    "samsung_support.isnull().sum()"
   ]
  },
  {
   "cell_type": "code",
   "execution_count": 15,
   "metadata": {},
   "outputs": [],
   "source": [
    "samsung_support = samsung_support.replace(r'\\n',' ', regex=True)\n",
    "samsung_support.to_csv(\"samsung_support.csv\")"
   ]
  },
  {
   "cell_type": "code",
   "execution_count": null,
   "metadata": {
    "collapsed": true
   },
   "outputs": [],
   "source": [
    "samsung_comments = pd.DataFrame({'thread': [], 'comment':[]})\n",
    "\n",
    "html = requests.get('https://us.community.samsung.com'+str(samsung_support['link'][0])) # pour pouvoir itérer\n",
    "soup = BeautifulSoup(html.text, 'lxml')\n",
    "\n",
    "bs = soup.find_all('div', attrs = {'class':u''})"
   ]
  },
  {
   "cell_type": "code",
   "execution_count": null,
   "metadata": {
    "collapsed": true
   },
   "outputs": [],
   "source": [
    "samsung_comments = pd.DataFrame({'thread': [], 'comment':[]})\n",
    "\n",
    "html = requests.get('https://us.community.samsung.com/t5/Galaxy-S8-Questions-and-Answers/Galaxy-S8-S8-Thoughts-amp-Info/td-p/83749') # pour pouvoir itérer\n",
    "soup = BeautifulSoup(html.text, 'lxml')\n",
    "\n",
    "bs = soup.find_all('div', attrs = {'class':u'lia-quilt-row lia-quilt-row-main'})\n",
    "\n"
   ]
  }
 ],
 "metadata": {
  "kernelspec": {
   "display_name": "Python 3",
   "language": "python",
   "name": "python3"
  },
  "language_info": {
   "codemirror_mode": {
    "name": "ipython",
    "version": 3
   },
   "file_extension": ".py",
   "mimetype": "text/x-python",
   "name": "python",
   "nbconvert_exporter": "python",
   "pygments_lexer": "ipython3",
   "version": "3.6.2"
  }
 },
 "nbformat": 4,
 "nbformat_minor": 2
}
